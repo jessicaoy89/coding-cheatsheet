{
 "cells": [
  {
   "cell_type": "markdown",
   "metadata": {},
   "source": [
    "# 1. Normality Tests"
   ]
  },
  {
   "cell_type": "markdown",
   "metadata": {},
   "source": [
    "**Statistical tests that you can use to check if your data has a Gaussian distribution**"
   ]
  },
  {
   "cell_type": "markdown",
   "metadata": {},
   "source": [
    "Tests whether a data sample has a Gaussian distribution.\n",
    "\n",
    "Assumptions:\n",
    "* Observations in each sample are independent and identically distributed (iid).\n",
    "\n",
    "Interpretation\n",
    "* H0: the sample has a Gaussian distribution.\n",
    "* H1: the sample does not have a Gaussian distribution.\n",
    "\n",
    "p > 0.05 : Gaussian"
   ]
  },
  {
   "cell_type": "markdown",
   "metadata": {},
   "source": [
    "### 1.1 Shapiro-Wilk Test"
   ]
  },
  {
   "cell_type": "code",
   "execution_count": 1,
   "metadata": {},
   "outputs": [
    {
     "name": "stdout",
     "output_type": "stream",
     "text": [
      "stat=0.895, p=0.193\n",
      "Probably Gaussian\n"
     ]
    }
   ],
   "source": [
    "from scipy.stats import shapiro\n",
    "data = [0.873, 2.817, 0.121, -0.945, -0.055, -1.436, 0.360, -1.478, -1.637, -1.869]\n",
    "stat, p = shapiro(data)\n",
    "print('stat=%.3f, p=%.3f' % (stat, p))\n",
    "if p > 0.05:\n",
    "\tprint('Probably Gaussian')\n",
    "else:\n",
    "\tprint('Probably not Gaussian')"
   ]
  },
  {
   "cell_type": "code",
   "execution_count": 6,
   "metadata": {},
   "outputs": [
    {
     "data": {
      "image/png": "[encoded data removed]",
      "text/plain": [
       "<Figure size 432x288 with 1 Axes>"
      ]
     },
     "metadata": {},
     "output_type": "display_data"
    }
   ],
   "source": [
    "import matplotlib.pyplot as plt\n",
    "import numpy as np\n",
    "%matplotlib inline\n",
    "\n",
    "plt.hist(data, density=True)\n",
    "plt.ylabel('Probability')\n",
    "plt.xlabel('Data');"
   ]
  },
  {
   "cell_type": "markdown",
   "metadata": {},
   "source": [
    "### 1.2 D'Agostino's K^2 Test"
   ]
  },
  {
   "cell_type": "code",
   "execution_count": 8,
   "metadata": {},
   "outputs": [
    {
     "name": "stdout",
     "output_type": "stream",
     "text": [
      "stat=2.576, p=0.276\n",
      "Probably Gaussian\n"
     ]
    }
   ],
   "source": [
    "from scipy.stats import normaltest\n",
    "np.random.seed(42)\n",
    "data = np.random.normal(size=1000)\n",
    "stat, p = normaltest(data)\n",
    "print('stat=%.3f, p=%.3f' % (stat, p))\n",
    "if p > 0.05:\n",
    "\tprint('Probably Gaussian')\n",
    "else:\n",
    "\tprint('Probably not Gaussian')"
   ]
  },
  {
   "cell_type": "code",
   "execution_count": 9,
   "metadata": {},
   "outputs": [
    {
     "data": {
      "image/png": "[encoded data removed]",
      "text/plain": [
       "<Figure size 432x288 with 1 Axes>"
      ]
     },
     "metadata": {},
     "output_type": "display_data"
    }
   ],
   "source": [
    "plt.hist(data, density=True)\n",
    "plt.ylabel('Probability')\n",
    "plt.xlabel('Data');"
   ]
  },
  {
   "cell_type": "markdown",
   "metadata": {},
   "source": [
    "### 1.3 Anderson-Darling Test"
   ]
  },
  {
   "cell_type": "code",
   "execution_count": 12,
   "metadata": {},
   "outputs": [
    {
     "name": "stdout",
     "output_type": "stream",
     "text": [
      "stat=0.174\n",
      "Probably Gaussian at the 15.0% level\n",
      "Probably Gaussian at the 10.0% level\n",
      "Probably Gaussian at the 5.0% level\n",
      "Probably Gaussian at the 2.5% level\n",
      "Probably Gaussian at the 1.0% level\n"
     ]
    }
   ],
   "source": [
    "from scipy.stats import anderson\n",
    "data = np.random.normal(size=1000)\n",
    "result = anderson(data)\n",
    "print('stat=%.3f' % (result.statistic))\n",
    "for i in range(len(result.critical_values)):\n",
    "\tsl, cv = result.significance_level[i], result.critical_values[i]\n",
    "\tif result.statistic < cv:\n",
    "\t\tprint('Probably Gaussian at the %.1f%% level' % (sl))\n",
    "\telse:\n",
    "\t\tprint('Probably not Gaussian at the %.1f%% level' % (sl))"
   ]
  },
  {
   "cell_type": "markdown",
   "metadata": {},
   "source": [
    "# 2. Correlation Tests"
   ]
  },
  {
   "cell_type": "markdown",
   "metadata": {},
   "source": [
    "**Statistical tests that you can use to check if two samples are related.**"
   ]
  },
  {
   "cell_type": "markdown",
   "metadata": {},
   "source": [
    "### 2.1 Pearson's Correlation Coefficient"
   ]
  },
  {
   "cell_type": "markdown",
   "metadata": {},
   "source": [
    "Tests whether two samples have a linear relationship.\n",
    "\n",
    "Assumptions:\n",
    "* Observations in each sample are independent and identically distributed (iid).\n",
    "* Observations in each sample are normally distributed.\n",
    "* Observations in each sample have the same variance.\n",
    "\n",
    "Interpretation\n",
    "* H0: the two samples are independent.\n",
    "* H1: there is a dependency between the samples.\n",
    "\n",
    "p > 0.05 : independent"
   ]
  },
  {
   "cell_type": "code",
   "execution_count": 14,
   "metadata": {},
   "outputs": [
    {
     "name": "stdout",
     "output_type": "stream",
     "text": [
      "stat=0.688, p=0.028\n",
      "Probably dependent\n"
     ]
    }
   ],
   "source": [
    "from scipy.stats import pearsonr\n",
    "data1 = [0.873, 2.817, 0.121, -0.945, -0.055, -1.436, 0.360, -1.478, -1.637, -1.869]\n",
    "data2 = [0.353, 3.517, 0.125, -7.545, -0.555, -1.536, 3.350, -1.578, -3.537, -1.579]\n",
    "stat, p = pearsonr(data1, data2)\n",
    "print('stat=%.3f, p=%.3f' % (stat, p))\n",
    "if p > 0.05:\n",
    "\tprint('Probably independent')\n",
    "else:\n",
    "\tprint('Probably dependent')"
   ]
  },
  {
   "cell_type": "markdown",
   "metadata": {},
   "source": [
    "### 2.2 Spearman's Rank Correlation"
   ]
  },
  {
   "cell_type": "markdown",
   "metadata": {},
   "source": [
    "Tests whether two samples have a monotonic relationship. \n",
    "[a relationship that does one of the following: (1) as the value of one variable increases, so does the value of the other variable; or (2) as the value of one variable increases, the other variable value decreases]\n",
    "\n",
    "Assumptions:\n",
    "* Observations in each sample are independent and identically distributed (iid).\n",
    "* Observations in each sample can be ranked\n",
    "\n",
    "Interpretation\n",
    "* H0: the two samples are independent.\n",
    "* H1: there is a dependency between the samples.\n",
    "\n",
    "p > 0.05 : independent"
   ]
  },
  {
   "cell_type": "code",
   "execution_count": 15,
   "metadata": {},
   "outputs": [
    {
     "name": "stdout",
     "output_type": "stream",
     "text": [
      "stat=0.855, p=0.002\n",
      "Probably dependent\n"
     ]
    }
   ],
   "source": [
    "from scipy.stats import spearmanr\n",
    "data1 = [0.873, 2.817, 0.121, -0.945, -0.055, -1.436, 0.360, -1.478, -1.637, -1.869]\n",
    "data2 = [0.353, 3.517, 0.125, -7.545, -0.555, -1.536, 3.350, -1.578, -3.537, -1.579]\n",
    "stat, p = spearmanr(data1, data2)\n",
    "print('stat=%.3f, p=%.3f' % (stat, p))\n",
    "if p > 0.05:\n",
    "\tprint('Probably independent')\n",
    "else:\n",
    "\tprint('Probably dependent')"
   ]
  },
  {
   "cell_type": "markdown",
   "metadata": {},
   "source": [
    "### 2.3 Kendall's Rank Correlation"
   ]
  },
  {
   "cell_type": "markdown",
   "metadata": {},
   "source": [
    "Tests whether two samples have a monotonic relationship. \n",
    "\n",
    "Assumptions:\n",
    "* Observations in each sample are independent and identically distributed (iid).\n",
    "* Observations in each sample can be ranked\n",
    "\n",
    "Interpretation\n",
    "* H0: the two samples are independent.\n",
    "* H1: there is a dependency between the samples.\n",
    "\n",
    "p > 0.05 : independent"
   ]
  },
  {
   "cell_type": "code",
   "execution_count": 16,
   "metadata": {},
   "outputs": [
    {
     "name": "stdout",
     "output_type": "stream",
     "text": [
      "stat=0.733, p=0.003\n",
      "Probably dependent\n"
     ]
    }
   ],
   "source": [
    "from scipy.stats import kendalltau\n",
    "data1 = [0.873, 2.817, 0.121, -0.945, -0.055, -1.436, 0.360, -1.478, -1.637, -1.869]\n",
    "data2 = [0.353, 3.517, 0.125, -7.545, -0.555, -1.536, 3.350, -1.578, -3.537, -1.579]\n",
    "stat, p = kendalltau(data1, data2)\n",
    "print('stat=%.3f, p=%.3f' % (stat, p))\n",
    "if p > 0.05:\n",
    "\tprint('Probably independent')\n",
    "else:\n",
    "\tprint('Probably dependent')"
   ]
  },
  {
   "cell_type": "markdown",
   "metadata": {},
   "source": [
    "### 2.4 Chi-Squared Test"
   ]
  },
  {
   "cell_type": "markdown",
   "metadata": {},
   "source": [
    "Tests whether two categorical variables are related or independent. \n",
    "\n",
    "Assumptions:\n",
    "* Observations used in the calculation of the contingency table are independent.\n",
    "* 25 or more examples in each cell of the contingency table.\n",
    "[a two-way frequency table, is a tabular mechanism with at least two rows and two columns used in statistics to present categorical data in terms of frequency counts]\n",
    "\n",
    "Interpretation\n",
    "* H0: the two samples are independent.\n",
    "* H1: there is a dependency between the samples.\n",
    "\n",
    "p > 0.05 : independent"
   ]
  },
  {
   "cell_type": "code",
   "execution_count": 17,
   "metadata": {},
   "outputs": [
    {
     "name": "stdout",
     "output_type": "stream",
     "text": [
      "stat=0.272, p=0.873\n",
      "Probably independent\n"
     ]
    }
   ],
   "source": [
    "from scipy.stats import chi2_contingency\n",
    "table = [[10, 20, 30],[6,  9,  17]]\n",
    "stat, p, dof, expected = chi2_contingency(table)\n",
    "print('stat=%.3f, p=%.3f' % (stat, p))\n",
    "if p > 0.05:\n",
    "\tprint('Probably independent')\n",
    "else:\n",
    "\tprint('Probably dependent')"
   ]
  },
  {
   "cell_type": "markdown",
   "metadata": {},
   "source": [
    "# 3. Stationary Tests"
   ]
  },
  {
   "cell_type": "markdown",
   "metadata": {},
   "source": [
    "**Statistical tests that you can use to check if a time series is stationary or not**"
   ]
  },
  {
   "cell_type": "markdown",
   "metadata": {},
   "source": [
    "### 3.1 Augmented Dickey-Fuller"
   ]
  },
  {
   "cell_type": "markdown",
   "metadata": {},
   "source": [
    "Tests whether a time series has a unit root, e.g. has a trend or more generally is autoregressive. \n",
    "\n",
    "Assumptions:\n",
    "* Observations in are temporally ordered.\n",
    "\n",
    "Interpretation\n",
    "* H0: a unit root is present (series is non-stationary).\n",
    "* H1: a unit root is not present (series is stationary).\n",
    "\n",
    "p > 0.05 : non-stationary"
   ]
  },
  {
   "cell_type": "code",
   "execution_count": 18,
   "metadata": {},
   "outputs": [
    {
     "name": "stdout",
     "output_type": "stream",
     "text": [
      "stat=-0.366, p=0.916\n",
      "Probably not Stationary\n"
     ]
    }
   ],
   "source": [
    "from statsmodels.tsa.stattools import adfuller\n",
    "data = [0, 1, 2, 3, 4, 5, 6, 7, 8, 9]\n",
    "stat, p, lags, obs, crit, t = adfuller(data)\n",
    "print('stat=%.3f, p=%.3f' % (stat, p))\n",
    "if p > 0.05:\n",
    "\tprint('Probably not Stationary')\n",
    "else:\n",
    "\tprint('Probably Stationary')"
   ]
  },
  {
   "cell_type": "markdown",
   "metadata": {},
   "source": [
    "### 3.2 Kwiatkowski-Phillips-Schmidt-Shin"
   ]
  },
  {
   "cell_type": "markdown",
   "metadata": {},
   "source": [
    "Tests whether a time series is trend stationary or not. \n",
    "\n",
    "Assumptions:\n",
    "* Observations in are temporally ordered.\n",
    "\n",
    "Interpretation\n",
    "* H0: the time series is not trend-stationary.\n",
    "* H1: the time series is trend-stationary.\n",
    "\n",
    "p > 0.05 : non-stationary"
   ]
  },
  {
   "cell_type": "code",
   "execution_count": 19,
   "metadata": {},
   "outputs": [
    {
     "name": "stdout",
     "output_type": "stream",
     "text": [
      "stat=0.410, p=0.073\n",
      "Probably not Stationary\n"
     ]
    }
   ],
   "source": [
    "from statsmodels.tsa.stattools import kpss\n",
    "data = [0, 1, 2, 3, 4, 5, 6, 7, 8, 9]\n",
    "stat, p, lags, crit = kpss(data)\n",
    "print('stat=%.3f, p=%.3f' % (stat, p))\n",
    "if p > 0.05:\n",
    "\tprint('Probably not Stationary')\n",
    "else:\n",
    "\tprint('Probably Stationary')"
   ]
  },
  {
   "cell_type": "markdown",
   "metadata": {},
   "source": [
    "# 4. Parametric Statistical Hypothesis Tests"
   ]
  },
  {
   "cell_type": "markdown",
   "metadata": {},
   "source": [
    "**Statistical tests that you can use to compare data samples.**"
   ]
  },
  {
   "cell_type": "markdown",
   "metadata": {},
   "source": [
    "### 4.1 Student's t-test"
   ]
  },
  {
   "cell_type": "markdown",
   "metadata": {},
   "source": [
    "Tests whether the means of two independent samples are significantly different.\n",
    "\n",
    "Assumptions:\n",
    "* Observations in each sample are independent and identically distributed (iid).\n",
    "* Observations in each sample are normally distributed.\n",
    "* Observations in each sample have the same variance.\n",
    "\n",
    "Interpretation\n",
    "* H0: the means of the samples are equal.\n",
    "* H1: the means of the samples are unequal.\n",
    "\n",
    "p > 0.05 : samples are similar"
   ]
  },
  {
   "cell_type": "code",
   "execution_count": 20,
   "metadata": {},
   "outputs": [
    {
     "name": "stdout",
     "output_type": "stream",
     "text": [
      "stat=-0.326, p=0.748\n",
      "Probably the same distribution\n"
     ]
    }
   ],
   "source": [
    "from scipy.stats import ttest_ind\n",
    "data1 = [0.873, 2.817, 0.121, -0.945, -0.055, -1.436, 0.360, -1.478, -1.637, -1.869]\n",
    "data2 = [1.142, -0.432, -0.938, -0.729, -0.846, -0.157, 0.500, 1.183, -1.075, -0.169]\n",
    "stat, p = ttest_ind(data1, data2)\n",
    "print('stat=%.3f, p=%.3f' % (stat, p))\n",
    "if p > 0.05:\n",
    "\tprint('Probably the same distribution')\n",
    "else:\n",
    "\tprint('Probably different distributions')"
   ]
  },
  {
   "cell_type": "markdown",
   "metadata": {},
   "source": [
    "### 4.2 Paired Student's t-test"
   ]
  },
  {
   "cell_type": "markdown",
   "metadata": {},
   "source": [
    "Tests whether the means of two independent samples are significantly different.\n",
    "\n",
    "Assumptions:\n",
    "* Observations in each sample are independent and identically distributed (iid).\n",
    "* Observations in each sample are normally distributed.\n",
    "* Observations in each sample have the same variance.\n",
    "* Observations across each sample are paired.\n",
    "\n",
    "Interpretation\n",
    "* H0: the means of the samples are equal.\n",
    "* H1: the means of the samples are unequal.\n",
    "\n",
    "p > 0.05 : samples are similar"
   ]
  },
  {
   "cell_type": "code",
   "execution_count": 21,
   "metadata": {},
   "outputs": [
    {
     "name": "stdout",
     "output_type": "stream",
     "text": [
      "stat=-0.334, p=0.746\n",
      "Probably the same distribution\n"
     ]
    }
   ],
   "source": [
    "from scipy.stats import ttest_rel\n",
    "data1 = [0.873, 2.817, 0.121, -0.945, -0.055, -1.436, 0.360, -1.478, -1.637, -1.869]\n",
    "data2 = [1.142, -0.432, -0.938, -0.729, -0.846, -0.157, 0.500, 1.183, -1.075, -0.169]\n",
    "stat, p = ttest_rel(data1, data2)\n",
    "print('stat=%.3f, p=%.3f' % (stat, p))\n",
    "if p > 0.05:\n",
    "\tprint('Probably the same distribution')\n",
    "else:\n",
    "\tprint('Probably different distributions')"
   ]
  },
  {
   "cell_type": "markdown",
   "metadata": {},
   "source": [
    "### 4.3 Analysis of Variance Test (ANOVA)"
   ]
  },
  {
   "cell_type": "markdown",
   "metadata": {},
   "source": [
    "Tests whether the means of two independent samples are significantly different.\n",
    "\n",
    "Assumptions:\n",
    "* Observations in each sample are independent and identically distributed (iid).\n",
    "* Observations in each sample are normally distributed.\n",
    "* Observations in each sample have the same variance.\n",
    "\n",
    "Interpretation\n",
    "* H0: the means of the samples are equal.\n",
    "* H1: the means of the samples are unequal.\n",
    "\n",
    "p > 0.05 : samples are similar"
   ]
  },
  {
   "cell_type": "code",
   "execution_count": 22,
   "metadata": {},
   "outputs": [
    {
     "name": "stdout",
     "output_type": "stream",
     "text": [
      "stat=0.096, p=0.908\n",
      "Probably the same distribution\n"
     ]
    }
   ],
   "source": [
    "from scipy.stats import f_oneway\n",
    "data1 = [0.873, 2.817, 0.121, -0.945, -0.055, -1.436, 0.360, -1.478, -1.637, -1.869]\n",
    "data2 = [1.142, -0.432, -0.938, -0.729, -0.846, -0.157, 0.500, 1.183, -1.075, -0.169]\n",
    "data3 = [-0.208, 0.696, 0.928, -1.148, -0.213, 0.229, 0.137, 0.269, -0.870, -1.204]\n",
    "stat, p = f_oneway(data1, data2, data3)\n",
    "print('stat=%.3f, p=%.3f' % (stat, p))\n",
    "if p > 0.05:\n",
    "\tprint('Probably the same distribution')\n",
    "else:\n",
    "\tprint('Probably different distributions')"
   ]
  },
  {
   "cell_type": "code",
   "execution_count": 28,
   "metadata": {},
   "outputs": [
    {
     "data": {
      "image/png": "[encoded data removed]",
      "text/plain": [
       "<Figure size 432x288 with 1 Axes>"
      ]
     },
     "metadata": {},
     "output_type": "display_data"
    },
    {
     "data": {
      "image/png": "[encoded data removed]",
      "text/plain": [
       "<Figure size 432x288 with 1 Axes>"
      ]
     },
     "metadata": {},
     "output_type": "display_data"
    },
    {
     "data": {
      "image/png": "[encoded data removed]",
      "text/plain": [
       "<Figure size 432x288 with 1 Axes>"
      ]
     },
     "metadata": {},
     "output_type": "display_data"
    }
   ],
   "source": [
    "plt.figure(1)\n",
    "plt.subplot(311)\n",
    "plt.hist(data1, density=True)\n",
    "plt.ylabel('Probability')\n",
    "plt.xlabel('Data1');\n",
    "\n",
    "plt.figure(2)\n",
    "plt.subplot(312)\n",
    "plt.hist(data2, density=True)\n",
    "plt.ylabel('Probability')\n",
    "plt.xlabel('Data2');\n",
    "\n",
    "plt.figure(3)\n",
    "plt.subplot(313)\n",
    "plt.hist(data3, density=True)\n",
    "plt.ylabel('Probability')\n",
    "plt.xlabel('Data3');"
   ]
  },
  {
   "cell_type": "markdown",
   "metadata": {},
   "source": [
    "### 4.4 Repeated Measures ANOVA Test"
   ]
  },
  {
   "cell_type": "markdown",
   "metadata": {},
   "source": [
    "Tests whether the means of two or more paired samples are significantly different.\n",
    "\n",
    "Assumptions:\n",
    "* Observations in each sample are independent and identically distributed (iid).\n",
    "* Observations in each sample are normally distributed.\n",
    "* Observations in each sample have the same variance.\n",
    "* Observations across each sample are paired.\n",
    "\n",
    "Interpretation\n",
    "* H0: the means of the samples are equal.\n",
    "* H1: one or more of the means of the samples are unequal.\n",
    "\n",
    "p > 0.05 : samples are similar"
   ]
  },
  {
   "cell_type": "markdown",
   "metadata": {},
   "source": [
    "# 5. Nonparametric Statistical Hypothesis Tests"
   ]
  },
  {
   "cell_type": "markdown",
   "metadata": {},
   "source": [
    "**source:** [https://statisticsbyjim.com/hypothesis-testing/nonparametric-parametric-tests/]\n",
    "\n",
    "\n",
    "* Parametric analyses to assess group means\n",
    "* Nonparametric analyses to assess group medians\n",
    "*\n",
    "\n",
    "\n",
    "* 1-sample t-test **VS**\t1-sample Sign, 1-sample Wilcoxon\n",
    "* 2-sample t-test **VS**\tMann-Whitney test\n",
    "* One-Way ANOVA\t**VS**\tKruskal-Wallis, Mood’s median test\n",
    "* Factorial DOE with a factor and a blocking variable\t**VS**\tFriedman test\n",
    "\n",
    "\n",
    "**Parametric tests pros:**\n",
    "1. Parametric tests can provide trustworthy results even with distributions that are skewed and nonnormal (due to Central Limit Theorem)\n",
    "2. Parametric tests can provide trustworthy results when the groups have different amounts of variability (a nonparametric analysis typically must all have the same variability)\n",
    "3. Parametric tests have greater statistical power\n",
    "\n",
    "**Nonparametric tests pros:**\n",
    "1. Nonparametric tests assess the median which can be better for some study areas\n",
    "2. Nonparametric tests are valid when our sample size is small and your data are potentially nonnormal\n",
    "3. Nonparametric tests can analyze ordinal data, ranked data, and outliers\n",
    "\n",
    "***Parametric test is preferred over Nonparametric test***"
   ]
  },
  {
   "cell_type": "markdown",
   "metadata": {},
   "source": [
    "### 5.1 Mann-Whitney U Test (or Wilcoxon rank-sum test)"
   ]
  },
  {
   "cell_type": "markdown",
   "metadata": {},
   "source": [
    "Tests whether the distributions of two independent samples are equal or not.\n",
    "\n",
    "Assumptions:\n",
    "* Observations in each sample are independent and identically distributed (iid).\n",
    "* Observations in each sample can be ranked.\n",
    "\n",
    "Interpretation\n",
    "* H0: the distributions of both samples are equal.\n",
    "* H1: the distributions of both samples are not equal.\n",
    "\n",
    "p > 0.05 : samples are similar"
   ]
  },
  {
   "cell_type": "code",
   "execution_count": 30,
   "metadata": {},
   "outputs": [
    {
     "name": "stdout",
     "output_type": "stream",
     "text": [
      "stat=40.000, p=0.236\n",
      "Probably the same distribution\n"
     ]
    }
   ],
   "source": [
    "from scipy.stats import mannwhitneyu\n",
    "data1 = [0.873, 2.817, 0.121, -0.945, -0.055, -1.436, 0.360, -1.478, -1.637, -1.869]\n",
    "data2 = [1.142, -0.432, -0.938, -0.729, -0.846, -0.157, 0.500, 1.183, -1.075, -0.169]\n",
    "stat, p = mannwhitneyu(data1, data2)\n",
    "print('stat=%.3f, p=%.3f' % (stat, p))\n",
    "if p > 0.05:\n",
    "\tprint('Probably the same distribution')\n",
    "else:\n",
    "\tprint('Probably different distributions')"
   ]
  },
  {
   "cell_type": "markdown",
   "metadata": {},
   "source": [
    "### 5.2 Wilcoxon Signed-Rank Test"
   ]
  },
  {
   "cell_type": "markdown",
   "metadata": {},
   "source": [
    "Tests whether the distributions of two paired samples are equal or not.\n",
    "\n",
    "Assumptions:\n",
    "* Observations in each sample are independent and identically distributed (iid).\n",
    "* Observations in each sample can be ranked.\n",
    "* Observations across each sample are paired.\n",
    "\n",
    "Interpretation\n",
    "* H0: the distributions of both samples are equal.\n",
    "* H1: the distributions of both samples are not equal.\n",
    "\n",
    "p > 0.05 : samples are similar"
   ]
  },
  {
   "cell_type": "code",
   "execution_count": 29,
   "metadata": {},
   "outputs": [
    {
     "name": "stdout",
     "output_type": "stream",
     "text": [
      "stat=21.000, p=0.508\n",
      "Probably the same distribution\n"
     ]
    }
   ],
   "source": [
    "from scipy.stats import wilcoxon\n",
    "data1 = [0.873, 2.817, 0.121, -0.945, -0.055, -1.436, 0.360, -1.478, -1.637, -1.869]\n",
    "data2 = [1.142, -0.432, -0.938, -0.729, -0.846, -0.157, 0.500, 1.183, -1.075, -0.169]\n",
    "stat, p = wilcoxon(data1, data2)\n",
    "print('stat=%.3f, p=%.3f' % (stat, p))\n",
    "if p > 0.05:\n",
    "\tprint('Probably the same distribution')\n",
    "else:\n",
    "\tprint('Probably different distributions')"
   ]
  },
  {
   "cell_type": "markdown",
   "metadata": {},
   "source": [
    "### 5.3 Kruskal-Wallis H Test"
   ]
  },
  {
   "cell_type": "markdown",
   "metadata": {},
   "source": [
    "Tests whether the distributions of two paired samples are equal or not.\n",
    "\n",
    "Assumptions:\n",
    "* Observations in each sample are independent and identically distributed (iid).\n",
    "* Observations in each sample can be ranked.\n",
    "\n",
    "Interpretation\n",
    "* H0: the distributions of both samples are equal.\n",
    "* H1: the distributions of both samples are not equal.\n",
    "\n",
    "p > 0.05 : samples are similar"
   ]
  },
  {
   "cell_type": "code",
   "execution_count": 31,
   "metadata": {},
   "outputs": [
    {
     "name": "stdout",
     "output_type": "stream",
     "text": [
      "stat=0.571, p=0.450\n",
      "Probably the same distribution\n"
     ]
    }
   ],
   "source": [
    "from scipy.stats import kruskal\n",
    "data1 = [0.873, 2.817, 0.121, -0.945, -0.055, -1.436, 0.360, -1.478, -1.637, -1.869]\n",
    "data2 = [1.142, -0.432, -0.938, -0.729, -0.846, -0.157, 0.500, 1.183, -1.075, -0.169]\n",
    "stat, p = kruskal(data1, data2)\n",
    "print('stat=%.3f, p=%.3f' % (stat, p))\n",
    "if p > 0.05:\n",
    "\tprint('Probably the same distribution')\n",
    "else:\n",
    "\tprint('Probably different distributions')"
   ]
  },
  {
   "cell_type": "markdown",
   "metadata": {},
   "source": [
    "### 5.4 Friedman Test"
   ]
  },
  {
   "cell_type": "markdown",
   "metadata": {},
   "source": [
    "Tests whether the distributions of two paired samples are equal or not.\n",
    "\n",
    "Assumptions:\n",
    "* Observations in each sample are independent and identically distributed (iid).\n",
    "* Observations in each sample can be ranked.\n",
    "* Observations across each sample are paired.\n",
    "\n",
    "Interpretation\n",
    "* H0: the distributions of both samples are equal.\n",
    "* H1: the distributions of both samples are not equal.\n",
    "\n",
    "p > 0.05 : samples are similar"
   ]
  },
  {
   "cell_type": "code",
   "execution_count": 32,
   "metadata": {},
   "outputs": [
    {
     "name": "stdout",
     "output_type": "stream",
     "text": [
      "stat=0.800, p=0.670\n",
      "Probably the same distribution\n"
     ]
    }
   ],
   "source": [
    "from scipy.stats import friedmanchisquare\n",
    "data1 = [0.873, 2.817, 0.121, -0.945, -0.055, -1.436, 0.360, -1.478, -1.637, -1.869]\n",
    "data2 = [1.142, -0.432, -0.938, -0.729, -0.846, -0.157, 0.500, 1.183, -1.075, -0.169]\n",
    "data3 = [-0.208, 0.696, 0.928, -1.148, -0.213, 0.229, 0.137, 0.269, -0.870, -1.204]\n",
    "stat, p = friedmanchisquare(data1, data2, data3)\n",
    "print('stat=%.3f, p=%.3f' % (stat, p))\n",
    "if p > 0.05:\n",
    "\tprint('Probably the same distribution')\n",
    "else:\n",
    "\tprint('Probably different distributions')"
   ]
  },
  {
   "cell_type": "code",
   "execution_count": null,
   "metadata": {},
   "outputs": [],
   "source": []
  },
  {
   "cell_type": "code",
   "execution_count": null,
   "metadata": {},
   "outputs": [],
   "source": []
  },
  {
   "cell_type": "code",
   "execution_count": null,
   "metadata": {},
   "outputs": [],
   "source": []
  }
 ],
 "metadata": {
  "kernelspec": {
   "display_name": "Python 3",
   "language": "python",
   "name": "python3"
  },
  "language_info": {
   "codemirror_mode": {
    "name": "ipython",
    "version": 3
   },
   "file_extension": ".py",
   "mimetype": "text/x-python",
   "name": "python",
   "nbconvert_exporter": "python",
   "pygments_lexer": "ipython3",
   "version": "3.6.5"
  }
 },
 "nbformat": 4,
 "nbformat_minor": 2
}
