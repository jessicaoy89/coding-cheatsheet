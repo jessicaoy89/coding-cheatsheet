{
 "cells": [
  {
   "cell_type": "markdown",
   "metadata": {},
   "source": [
    "**An open source python library that implements machine learning, preprocessing, cross-validation and visualization algorithms using a unified interface**"
   ]
  },
  {
   "cell_type": "markdown",
   "metadata": {},
   "source": [
    "# 1. Supervised learning\n",
    "\n",
    "## 1.1. Linear Models\n",
    "**1. L1 regularization (Lasso regression):**\n",
    "* L1 tends to shrink coefficients to zero, useful for feature selection, as we can drop any variables associated with coefficients that go to zero\n",
    "* helps perform feature selection in sparse feature spaces. Feature selection is to know which features are helpful and which are redundant.\n",
    "\n",
    "**2. L2 regularization (Ridge regression):**\n",
    "* L2 tends to shrink coefficients evenly, useful when you have collinear/codependent features\n",
    "* has one very important advantage to L1, and that is invariance to rotation and scale. This is especially important in geographical / physical application.\n",
    "\n",
    "### Classifiers:\n",
    "* linear_model.LogisticRegression ---- fits a single line to divide the space exactly into two\n",
    "* linear_model.RidgeClassifier ---- works with l2 penalty\n",
    "* linear_model.SGDClassifier ---- a linear classifier optimized by SGD (default to linearSVM)\n",
    "\n",
    "### Regressors:\n",
    "* linear_model.LinearRegression\n",
    "* linear_model.Ridge\n",
    "* linear_model.SGDRegressor\n",
    "\n",
    "### Regressors with variable selection:\n",
    "* linear_model.Lasso ---- L1 (lasso.coef_)\n",
    "* linear_model.Ridge ---- L2 (ridge.coef_)\n",
    "\n",
    "## 1.2. Support vector machines\n",
    "**A Support Vector Machine (SVM) performs classification by finding the hyperplane that maximizes the margin between the two classes. The vectors (cases) that define the hyperplane are the support vectors.**\n",
    "### Estimators:\n",
    "* svm.LinearSVC ---- classification\n",
    "* svm.LinearSVR ---- regression\n",
    "* svm.SVC ---- C-SVC\n",
    "* svm.SVR ---- Epsilon-SVC\n",
    "\n",
    "## 1.4. Nearest neighbors\n",
    "* neighbors.KDTree ---- KDTree for fast generalized N-point problems\n",
    "* neighbors.KNeighborsClassifier ---- Classifier implementing the k-nearest neighbors vote.\n",
    "* neighbors.KNeighborsRegressor ---- Regression based on k-nearest neighbors.\n",
    "* neighbors.LocalOutlierFactor ---- Unsupervised Outlier Detection using Local Outlier Factor (LOF)\n",
    "* neighbors.NearestNeighbors ---- Unsupervised learner for implementing neighbor searches.\n",
    "\n",
    "## 1.5. Naive Bayes\n",
    "**Assumes that the presence of a particular feature in a class is unrelated to the presence of any other feature.**\n",
    "\n",
    "**It predicts membership probabilities for each class such as the probability that given record or data point belongs to a particular class.**\n",
    "\n",
    "* naive_bayes.GaussianNB ---- Gaussian Naive Bayes (GaussianNB)\n",
    "\n",
    "## 1.6. Decision Trees\n",
    "**A decision tree is built on an entire dataset, using all the features/variables of interest**\n",
    "**Decision tree builds classification or regression models in the form of a tree structure. It breaks down a data set into smaller and smaller subsets while at the same time an associated decision tree is incrementally developed. The final result is a tree with decision nodes and leaf nodes**\n",
    "\n",
    "* tree.DecisionTreeClassifier\n",
    "* tree.DecisionTreeRegressor\n",
    "* tree.ExtraTreeClassifier ---- An extremely randomized tree classifier.\n",
    "* tree.ExtraTreeRegressor\n",
    "* tree.export_graphviz ---- Export a decision tree in DOT format.\n",
    "\n",
    "## 1.7. Ensemble methods\n",
    "**1. Bagging: Training a bunch of individual models in a parallel way. Each model is trained by a random subset of the data**\n",
    "**2. Boosting: Training a bunch of individual models in a sequential way. Each individual model learns from mistakes made by the previous model.**\n",
    "\n",
    "* ensemble.AdaBoostClassifier ---- Adaptive Boosting can be seen as a special case with a particular loss function, learns from the mistakes by increasing the weight of misclassified data points.\n",
    "* ensemble.AdaBoostRegressor\n",
    "* ensemble.BaggingClassifier ---- all features are considered for splitting a node\n",
    "* ensemble.BaggingRegressor\n",
    "* ensemble.ExtraTreeClassifier ---- selects a split point at random\n",
    "* ensemble.ExtraTreeRegressor\n",
    "* ensemble.GradientBoostingClassifier ---- Gradient Boosting is a generic algorithm to find approximate solutions to the additive modeling problem, learns from the mistake — residual error directly, rather than update the weights of data points.\n",
    "* ensemble.GradientBoostingRegressor\n",
    "* ensemble.RandomForestClassifier ---- select an optimal split point, a collection of decision trees whose results are aggregated into one final result, limit overfitting without substantially increasing error due to bias (train on different samples of the data using bagging as the ensemble method).\n",
    "* ensemble.RandomForestRegressor\n",
    "\n",
    "## 1.8. Feature selection\n",
    "* feature_selection.SelectFromModel ---- Meta-transformer for selecting features based on importance weights.\n",
    "1. L1-based:\n",
    "    - Sparse estimator `linear_model.Lasso` for regression\n",
    "    - Sparse estimator `linear_model.LogisticRegression` and `svm.LinearSVC` for classification\n",
    "    - `X_new = SelectFromModel(estimator, prefit=True).transform(X)`\n",
    "2. Tree-based:\n",
    "    - Tree estimators can be used to compute impurity-based feature importances, which in turn can be used to discard irrelevant features\n",
    "    - `estimator = ExtraTreesClassifier(n_estimators=50).fit(X, y)`\n",
    "    - `X_new = SelectFromModel(estimator, prefit=True).transform(X)`\n",
    "\n",
    "## 1.9. Neural network models\n",
    "* neural_network.MLPClassifier\n",
    "\n",
    "# 2. Unsupervised learning\n",
    "\n",
    "## 2.1. Clustering\n",
    "* cluster.KMeans\n",
    "\n",
    "## 2.2. Neural network models\n",
    "\n",
    "\n",
    "# 3. Model selection & evaluation\n",
    "\n",
    "## 3.1. Cross-validation: evaluating estimator performance\n",
    "### i) Splitter classes:\n",
    "* model_selection.KFold([n_splits, shuffle, …]) ---- K-Folds cross-validator\n",
    "* model_selection.ShuffleSplit([n_splits, …]) ---- Random permutation cross-validator\n",
    "* model_selection.StratifiedKFold([n_splits, …]) ---- Stratified K-Folds cross-validator\n",
    "* model_selection.TimeSeriesSplit([n_splits, …]) ---- Time Series cross-validator\n",
    "### ii) Splitter functions:\n",
    "* model_selection.train_test_split(*arrays, …)\n",
    "### iii) Model validation:\n",
    "* model_selection.cross_validate(estimator, X) ---- Evaluate metric(s) by cross-validation and also record fit/score times.\n",
    "* model_selection.cross_val_predict(estimator, X) ---- Generate cross-validated estimates for each input data point.\n",
    "* model_selection.cross_val_score(estimator, X) ---- Evaluate a score by cross-validation.\n",
    "\n",
    "## 3.2. Tuning the hyper-parameters of an estimator\n",
    "* model_selection.GridSearchCV(estimator, …) ---- Exhaustive search over specified parameter values for an estimator.\n",
    "* model_selection.ParameterGrid(param_grid) ---- Grid of parameters with a discrete number of values for each.\n",
    "* model_selection.ParameterSampler(…[, …]) ---- Generator on parameters sampled from given distributions.\n",
    "* model_selection.RandomizedSearchCV(…[, …]) ---- Randomized search on hyper parameters.\n",
    "\n",
    "## 3.3. Metrics and scoring: quantifying the quality of predictions\n",
    "### i) Classification metrics:\n",
    "* metrics.accuracy_score(y_true, y_pred, *[, …]) ---- Accuracy classification score.\n",
    "* metrics.auc(x, y) ---- Compute Area Under the Curve (AUC) using the trapezoidal rule\n",
    "* metrics.classification_report(y_true, y_pred, *) ---- Build a text report showing the main classification metrics.\n",
    "* metrics.confusion_matrix(y_true, y_pred, *) ---- Compute confusion matrix to evaluate the accuracy of a classification.\n",
    ".\n",
    ".\n",
    ".\n",
    "### ii) Regression metrics:\n",
    "* metrics.mean_absolute_error(y_true, y_pred, *) ---- Mean absolute error regression loss\n",
    "* metrics.r2_score(y_true, y_pred, *[, …]) ---- R^2 (coefficient of determination) regression score function.\n",
    ".\n",
    ".\n",
    ".\n",
    "### iii) Clustering metrics:\n",
    "* metrics.adjusted_rand_score(labels_true, …) ---- Rand index adjusted for chance.\n",
    ".\n",
    ".\n",
    ".\n",
    "\n",
    "# 4. Dataset transformations\n",
    "\n",
    "## 4.1. Pipelines & composite estimators\n",
    "* pipeline.Pipeline(steps, *[, memory, verbose]) ---- Pipeline of transforms with a final estimator.\n",
    "\n",
    "## 4.2. Feature extraction\n",
    "### i) From image\n",
    "* feature_extraction.image.extract_patches_2d(…) ---- Reshape a 2D image into a collection of patches\n",
    "\n",
    "### ii) From text\n",
    "* feature_extraction.text.TfidfTransformer(*) ---- Transform a count matrix to a normalized tf or tf-idf representation\n",
    "\n",
    "## 4.3. Preprocessing data\n",
    "### i) Scaling\n",
    "* preprocessing.StandardScaler(*[, copy, …]) ---- Standardize features by removing the mean and scaling to unit variance\n",
    "* preprocessing.scale(X, *[, axis, with_mean, …]) ---- Standardize a dataset along any axis\n",
    "\n",
    "### ii) Centering\n",
    "* preprocessing.KernelCenterer() ---- Center a kernel matrix\n",
    "\n",
    "### iii) Normalization\n",
    "* preprocessing.Normalizer([norm, copy]) ---- Normalize samples individually to unit norm.\n",
    "\n",
    "### iv) Binarization\n",
    "\n",
    "## 4.4. Imputation of missing values\n",
    "\n",
    "## 4.5. Unsupervised dimensionality reduction\n",
    "* decomposition.PCA([n_components, copy, …]) ---- Principal component analysis (PCA).\n",
    "\n",
    "## 4.6. Random Projection\n",
    "\n",
    "\n",
    "# 5. Visualization\n",
    "\n",
    "# 6. Inspection"
   ]
  },
  {
   "cell_type": "markdown",
   "metadata": {},
   "source": [
    "### Example"
   ]
  },
  {
   "cell_type": "code",
   "execution_count": 11,
   "metadata": {},
   "outputs": [
    {
     "data": {
      "text/plain": [
       "0.631578947368421"
      ]
     },
     "execution_count": 11,
     "metadata": {},
     "output_type": "execute_result"
    }
   ],
   "source": [
    "from sklearn import neighbors, datasets, preprocessing\n",
    "from sklearn.model_selection import train_test_split\n",
    "from sklearn.metrics import accuracy_score\n",
    "\n",
    "iris = datasets.load_iris()\n",
    "X, y = iris.data[:, :2], iris.target\n",
    "X_train, X_test, y_train, y_test = train_test_split(X, y, random_state=33)\n",
    "scaler = preprocessing.StandardScaler().fit(X_train)\n",
    "X_train = scaler.transform(X_train)\n",
    "X_test = scaler.transform(X_test)\n",
    "knn = neighbors.KNeighborsClassifier(n_neighbors=5)\n",
    "knn.fit(X_train, y_train)\n",
    "y_pred = knn.predict(X_test)\n",
    "accuracy_score(y_test, y_pred)"
   ]
  },
  {
   "cell_type": "code",
   "execution_count": 71,
   "metadata": {},
   "outputs": [],
   "source": [
    "import numpy as np\n",
    "\n",
    "X = np.random.random((10,5))\n",
    "y = np.array([1, 1,2,2,1,2,1,1,2,2])\n",
    "X[X < 0.7] = 0\n",
    "\n",
    "X_train, X_test, y_train, y_test = train_test_split(X, y, random_state=0)"
   ]
  },
  {
   "cell_type": "markdown",
   "metadata": {},
   "source": [
    "### Preprocessing"
   ]
  },
  {
   "cell_type": "code",
   "execution_count": 72,
   "metadata": {},
   "outputs": [
    {
     "data": {
      "text/plain": [
       "array([[1.        , 0.        , 0.        , ..., 0.        , 0.        ,\n",
       "        0.        ],\n",
       "       [1.        , 0.89713388, 0.85103383, ..., 0.48008052, 0.61170282,\n",
       "        0.77941164],\n",
       "       [1.        , 0.71758327, 0.70492794, ..., 0.        , 0.        ,\n",
       "        0.        ],\n",
       "       ...,\n",
       "       [1.        , 0.80477214, 0.        , ..., 0.        , 0.        ,\n",
       "        0.        ],\n",
       "       [1.        , 0.        , 0.        , ..., 0.        , 0.        ,\n",
       "        0.        ],\n",
       "       [1.        , 0.        , 0.        , ..., 0.        , 0.        ,\n",
       "        0.72296373]])"
      ]
     },
     "execution_count": 72,
     "metadata": {},
     "output_type": "execute_result"
    }
   ],
   "source": [
    "# 1. Standardization\n",
    "\n",
    "from sklearn.preprocessing import StandardScaler\n",
    "\n",
    "scaler = StandardScaler().fit(X_train)\n",
    "standardized_X = scaler.transform(X_train)\n",
    "standardized_X_test = scaler.transform(X_test)\n",
    "\n",
    "# 2. Normalization\n",
    "from sklearn.preprocessing import Normalizer\n",
    "\n",
    "scaler = Normalizer().fit(X_train)\n",
    "normalized_X = scaler.transform(X_train)\n",
    "normalized_X_test = scaler.transform(X_test)\n",
    "\n",
    "# 3. Imputing missing values\n",
    "from sklearn.preprocessing import Imputer\n",
    "\n",
    "imp = Imputer(missing_values=0, strategy='mean', axis=0)\n",
    "imp.fit_transform(X_train)\n",
    "\n",
    "# 4. Generating polynomial features\n",
    "from sklearn.preprocessing import PolynomialFeatures\n",
    "\n",
    "poly = PolynomialFeatures(5)\n",
    "poly.fit_transform(X)"
   ]
  },
  {
   "cell_type": "markdown",
   "metadata": {},
   "source": [
    "### Models"
   ]
  },
  {
   "cell_type": "code",
   "execution_count": 73,
   "metadata": {},
   "outputs": [],
   "source": [
    "# 1. Supervised learning estimators\n",
    "\n",
    "from sklearn.linear_model import LinearRegression\n",
    "lr = LinearRegression(normalize=True)\n",
    "\n",
    "## support vector machines\n",
    "from sklearn.svm import SVC\n",
    "svc = SVC(kernel='linear')\n",
    "\n",
    "## naive bayes\n",
    "from sklearn.naive_bayes import GaussianNB\n",
    "gnb = GaussianNB()\n",
    "\n",
    "from sklearn import neighbors\n",
    "knn = neighbors.KNeighborsClassifier(n_neighbors=5)\n",
    "\n",
    "#=============================================================\n",
    "# 2. Unsupervised\n",
    "\n",
    "from sklearn.decomposition import PCA\n",
    "pca = PCA(n_components=0.95)\n",
    "\n",
    "from sklearn.cluster import KMeans\n",
    "k_means = KMeans(n_clusters=3, random_state=0)"
   ]
  },
  {
   "cell_type": "code",
   "execution_count": 74,
   "metadata": {},
   "outputs": [],
   "source": [
    "# Model Fitting\n",
    "\n",
    "#lr.fit(X,y)\n",
    "knn.fit(X_train, y_train)\n",
    "svc.fit(X_train, y_train)\n",
    "\n",
    "k_means.fit(X_train)\n",
    "pca_model = pca.fit_transform(X_train) # fit the model to the data, then transform it"
   ]
  },
  {
   "cell_type": "code",
   "execution_count": 75,
   "metadata": {},
   "outputs": [],
   "source": [
    "# Prediction\n",
    "\n",
    "#y_pred = lr.predict(X_test)\n",
    "y_pred1 = knn.predict_proba(X_test)\n",
    "y_pred2 = svc.predict(np.random.random((2,5)))\n",
    "\n",
    "y_pred3 = k_means.predict(X_test)"
   ]
  },
  {
   "cell_type": "markdown",
   "metadata": {},
   "source": [
    "### Evaluate Model's Performance"
   ]
  },
  {
   "cell_type": "markdown",
   "metadata": {},
   "source": [
    "### 1. Classification metrics:\n",
    "\n",
    "**1.1 Accuracy score**\n",
    "* accuracy: `(TN+TP)/(TN+FP+FN+TP)`\n",
    "\n",
    "**1.2 Classification report**\n",
    "* precision: `TP/(TP+FP)`\n",
    "* recall (or sensitivity): `TP/(TP+FN)`\n",
    "* f1-score: `(2 x precision x recall) / (precision + recall)` harmonic mean, penalizes more extreme values\n",
    "* support\n",
    "\n",
    "**1.3 Confusion matrix**\n",
    "\n",
    "    pF   pT\n",
    "    \n",
    "rF  TN   FP\n",
    "\n",
    "rT  FN   TP\n",
    "\n",
    "\n",
    "**1.4 Comparisons:**\n",
    "* accuracy V.S. f1-score: f1 score should be used when not making mistakes is more important (imbalanced classes), accuracy should be used when the model’s goal is to optimize performance (balanced classes))"
   ]
  },
  {
   "cell_type": "code",
   "execution_count": 76,
   "metadata": {},
   "outputs": [
    {
     "name": "stdout",
     "output_type": "stream",
     "text": [
      "             precision    recall  f1-score   support\n",
      "\n",
      "          1       1.00      1.00      1.00         1\n",
      "          2       1.00      1.00      1.00         2\n",
      "\n",
      "avg / total       1.00      1.00      1.00         3\n",
      "\n",
      "[[1 0]\n",
      " [0 2]]\n"
     ]
    }
   ],
   "source": [
    "# 1. Classification Metrics:\n",
    "\n",
    "## 1.1 Accuracy score\n",
    "## Estimator score method\n",
    "## Metric scoring functions\n",
    "knn.score(X_test, y_test)\n",
    "from sklearn.metrics import accuracy_score\n",
    "accuracy_score(y_test, y_pred)\n",
    "\n",
    "## 1.2 Classification report\n",
    "## Precision, recall, f1-score and support\n",
    "from sklearn.metrics import classification_report\n",
    "print(classification_report(y_test, y_pred))\n",
    "\n",
    "## 1.3 Confusion matrix\n",
    "from sklearn.metrics import confusion_matrix\n",
    "print(confusion_matrix(y_test, y_pred))"
   ]
  },
  {
   "cell_type": "markdown",
   "metadata": {},
   "source": [
    "### 2. Regression metrics:\n",
    "\n",
    "**2.1 Mean/Median absolute error (MAE)**\n",
    "* `|yhat - y|`\n",
    "\n",
    "**2.2 Mean squared error (MSE)**\n",
    "* `(yhat - y)^2`\n",
    "* penalize higher errors more\n",
    "* RMSE `sqrt((yhat - y)^2)` similar to MAE scale-wise, but still penalize higher errors more\n",
    "\n",
    "**2.3 R^2**\n",
    "* r is the correlation coefficient\n",
    "* how much a regression model represents the proprotion of the variance for a dependent variable\n",
    "* how well the data fits the regression model\n",
    "\n",
    "**2.4 Mean squared logarithmic error**\n",
    "* only cares about percent differences\n",
    "* treat small differences between small values the same as large differences on a large scale"
   ]
  },
  {
   "cell_type": "code",
   "execution_count": 77,
   "metadata": {},
   "outputs": [
    {
     "data": {
      "text/plain": [
       "-0.26923076923076916"
      ]
     },
     "execution_count": 77,
     "metadata": {},
     "output_type": "execute_result"
    }
   ],
   "source": [
    "# 2. Regression Metrics:\n",
    "\n",
    "## 2.1 Mean absolute error\n",
    "from sklearn.metrics import mean_absolute_error\n",
    "y_true = [3, -0.5, 2]\n",
    "mean_absolute_error(y_true, y_pred)\n",
    "\n",
    "## 2.2 Mean squared error\n",
    "from sklearn.metrics import mean_squared_error\n",
    "mean_squared_error(y_true, y_pred)\n",
    "\n",
    "## 2.3 R^2 score\n",
    "from sklearn.metrics import r2_score\n",
    "r2_score(y_true, y_pred)"
   ]
  },
  {
   "cell_type": "markdown",
   "metadata": {},
   "source": [
    "**3. Clustering metrics:**\n",
    "\n",
    "**3.1 Adjusted rand index**\n",
    "* a measure of agreement between two partitions: one given by the clustering process and the other defined by external criteria\n",
    "* For smaller sample sizes or larger number of clusters it is safer to use an adjusted index such as the Adjusted Rand Index (ARI).\n",
    "\n",
    "**3.2 Homogeneity**\n",
    "* A perfectly homogeneous clustering is one where each cluster has data-points belonging to the same class label. \n",
    "* Homogeneity describes the closeness of the clustering algorithm to this perfection.\n",
    "\n",
    "**3.3 Completeness**\n",
    "* A perfectly complete clustering is one where all data-points belonging to the same class are clustered into the same cluster.\n",
    "* Completeness describes the closeness of the clustering algorithm to this perfection.\n",
    "\n",
    "**3.4 V-measure**\n",
    "* Balances between homogeneity and completeness\n",
    "* it is independent of the number of class labels, the number of clusters, the size of the data and the clustering algorithm used and is a very reliable metric"
   ]
  },
  {
   "cell_type": "code",
   "execution_count": 82,
   "metadata": {},
   "outputs": [
    {
     "name": "stdout",
     "output_type": "stream",
     "text": [
      "0.0\n",
      "0.5793801642856952\n",
      "0.7336804366512111\n"
     ]
    }
   ],
   "source": [
    "# 3. Clustering Metrics:\n",
    "\n",
    "## 3.1 Adjusted rand index\n",
    "from sklearn.metrics import adjusted_rand_score\n",
    "print(adjusted_rand_score(y_true, y_pred))\n",
    "\n",
    "## 3.2 Homogeneity\n",
    "from sklearn.metrics import homogeneity_score\n",
    "print(homogeneity_score(y_true, y_pred))\n",
    "\n",
    "## 3.3 V-measure\n",
    "from sklearn.metrics import v_measure_score\n",
    "print(v_measure_score(y_true, y_pred))"
   ]
  },
  {
   "cell_type": "code",
   "execution_count": 79,
   "metadata": {},
   "outputs": [
    {
     "name": "stdout",
     "output_type": "stream",
     "text": [
      "[0.5 0.5 0.5 0. ]\n"
     ]
    },
    {
     "name": "stderr",
     "output_type": "stream",
     "text": [
      "/Users/bingjieouyang/anaconda3/lib/python3.6/site-packages/sklearn/cross_validation.py:553: Warning: The least populated class in y has only 3 members, which is too few. The minimum number of labels for any class cannot be less than n_folds=4.\n",
      "  % (min_labels, self.n_folds)), Warning)\n"
     ]
    }
   ],
   "source": [
    "# 4. Cross-Validation\n",
    "\n",
    "from sklearn.cross_validation import cross_val_score\n",
    "\n",
    "print(cross_val_score(knn, X_train, y_train, cv=4))"
   ]
  },
  {
   "cell_type": "markdown",
   "metadata": {},
   "source": [
    "### Tune Model"
   ]
  },
  {
   "cell_type": "code",
   "execution_count": 80,
   "metadata": {},
   "outputs": [
    {
     "name": "stdout",
     "output_type": "stream",
     "text": [
      "0.8571428571428571\n",
      "1\n"
     ]
    }
   ],
   "source": [
    "# 1. Grid Search\n",
    "\n",
    "from sklearn.grid_search import GridSearchCV\n",
    "\n",
    "params = {\"n_neighbors\": np.arange(1,3),\n",
    "         \"metric\": [\"euclidean\", \"cityblock\"]}\n",
    "grid = GridSearchCV(estimator=knn,\n",
    "                   param_grid=params)\n",
    "grid.fit(X_train, y_train)\n",
    "print(grid.best_score_)\n",
    "print(grid.best_estimator_.n_neighbors)"
   ]
  },
  {
   "cell_type": "code",
   "execution_count": 81,
   "metadata": {},
   "outputs": [
    {
     "ename": "ImportError",
     "evalue": "cannot import name 'RandomizedSearchcv'",
     "output_type": "error",
     "traceback": [
      "\u001b[0;31m---------------------------------------------------------------------------\u001b[0m",
      "\u001b[0;31mImportError\u001b[0m                               Traceback (most recent call last)",
      "\u001b[0;32m<ipython-input-81-4c9678256550>\u001b[0m in \u001b[0;36m<module>\u001b[0;34m()\u001b[0m\n\u001b[1;32m      1\u001b[0m \u001b[0;31m# 2. Randomized Parameter Optimization\u001b[0m\u001b[0;34m\u001b[0m\u001b[0;34m\u001b[0m\u001b[0m\n\u001b[1;32m      2\u001b[0m \u001b[0;34m\u001b[0m\u001b[0m\n\u001b[0;32m----> 3\u001b[0;31m \u001b[0;32mfrom\u001b[0m \u001b[0msklearn\u001b[0m\u001b[0;34m.\u001b[0m\u001b[0mgrid_search\u001b[0m \u001b[0;32mimport\u001b[0m \u001b[0mRandomizedSearchcv\u001b[0m\u001b[0;34m\u001b[0m\u001b[0m\n\u001b[0m\u001b[1;32m      4\u001b[0m params = {\"n_neighbors\": range(1,5),\n\u001b[1;32m      5\u001b[0m          \"weights\": [\"uniform\", \"distance\"]}\n",
      "\u001b[0;31mImportError\u001b[0m: cannot import name 'RandomizedSearchcv'"
     ]
    }
   ],
   "source": [
    "# 2. Randomized Parameter Optimization\n",
    "\n",
    "from sklearn.grid_search import RandomizedSearchcv\n",
    "params = {\"n_neighbors\": range(1,5),\n",
    "         \"weights\": [\"uniform\", \"distance\"]}\n",
    "rsearch = RandomizedSearchCV(estimator=knn,\n",
    "                            param_distributions=params,\n",
    "                            cv=4,\n",
    "                            n_iter=8,\n",
    "                            random_state=5)\n",
    "rsearch.fit(X_train, y_train)\n",
    "print(rsearch.best_score_)"
   ]
  },
  {
   "cell_type": "code",
   "execution_count": null,
   "metadata": {},
   "outputs": [],
   "source": []
  },
  {
   "cell_type": "markdown",
   "metadata": {},
   "source": [
    "### ======================================================================================\n",
    "\n",
    "### Maximum Likelihood Estimator"
   ]
  },
  {
   "cell_type": "markdown",
   "metadata": {},
   "source": [
    "**Two steps to use MLE function:**\n",
    "\n",
    "\n",
    "`from scipy.optimize import minimize`\n",
    "`import scipy.stats as stats`\n",
    "\n",
    "#### 1. Define likelihood function:\n",
    "\n",
    "`def likelihood_func(params):`\n",
    "\n",
    "`params` * contains fitting parameters and sd\n",
    "\n",
    "`yhat = f(x|params)` * the function used to predict y values\n",
    "\n",
    "***we flip the Bayesian question, \n",
    "compute PDF of observed values normally distributed around mean (yhat) with a standard deviation of sd\n",
    "that becomes negative log likelihood function***\n",
    "\n",
    "`negLL = -np.sum(stats.norm.logpdf(y, loc=yhat, scale=sd))`\n",
    "`return(negLL)`\n",
    "\n",
    "\n",
    "#### 2. Minimize the negative log likelihood to get the optimal result:\n",
    "\n",
    "`results = minimize(likelihood_func, params_1, method='Nelder-Mead', options={'disp':True})`\n",
    "\n"
   ]
  },
  {
   "cell_type": "markdown",
   "metadata": {},
   "source": [
    "#### 1. Example with sigmoid"
   ]
  },
  {
   "cell_type": "code",
   "execution_count": 56,
   "metadata": {},
   "outputs": [
    {
     "name": "stdout",
     "output_type": "stream",
     "text": [
      "[0.86603581 3.47620973 0.05449688]\n"
     ]
    },
    {
     "data": {
      "image/png": "[encoded data removed]",
      "text/plain": [
       "<Figure size 432x288 with 1 Axes>"
      ]
     },
     "metadata": {},
     "output_type": "display_data"
    }
   ],
   "source": [
    "from scipy import stats\n",
    "import numpy as np\n",
    "from scipy.optimize import minimize\n",
    "import pylab as py\n",
    "\n",
    "ydata = np.array([0.1,0.15,0.2,0.3,0.7,0.8,0.9, 0.9, 0.95])\n",
    "xdata = np.array(range(0,len(ydata),1))\n",
    "\n",
    "def sigmoid(params):\n",
    "    k = params[0]\n",
    "    x0 = params[1]   \n",
    "    sd = params[2]\n",
    "\n",
    "    yPred = 1 / (1+ np.exp(-k*(xdata-x0)))\n",
    "\n",
    "    # Calculate negative log likelihood\n",
    "    LL = -np.sum( stats.norm.logpdf(ydata, loc=yPred, scale=sd ) )\n",
    "\n",
    "    return(LL)\n",
    "\n",
    "\n",
    "initParams = [1, 1, 1]\n",
    "\n",
    "results = minimize(sigmoid, initParams, method='Nelder-Mead')\n",
    "print(results.x)\n",
    "\n",
    "estParms = results.x\n",
    "yOut = yPred = 1 / (1+ np.exp(-estParms[0]*(xdata-estParms[1])))\n",
    "\n",
    "%matplotlib inline\n",
    "py.clf()\n",
    "py.plot(xdata,ydata, 'go')\n",
    "py.plot(xdata, yOut)\n",
    "py.show()"
   ]
  },
  {
   "cell_type": "markdown",
   "metadata": {},
   "source": [
    "#### 2. Example with linear-fit"
   ]
  },
  {
   "cell_type": "code",
   "execution_count": 57,
   "metadata": {},
   "outputs": [],
   "source": [
    "import numpy as np, pandas as pd\n",
    "from matplotlib import pyplot as plt\n",
    "import seaborn as sns\n",
    "from scipy.optimize import minimize\n",
    "import scipy.stats as stats\n",
    "#import pymc3 as pm3\n",
    "#import numdifftools as ndt\n",
    "import statsmodels.api as sm\n",
    "from statsmodels.base.model import GenericLikelihoodModel\n",
    "%matplotlib inline"
   ]
  },
  {
   "cell_type": "code",
   "execution_count": 59,
   "metadata": {},
   "outputs": [
    {
     "data": {
      "image/png": "[encoded data removed]",
      "text/plain": [
       "<Figure size 432x288 with 1 Axes>"
      ]
     },
     "metadata": {},
     "output_type": "display_data"
    }
   ],
   "source": [
    "N = 100\n",
    "x = np.linspace(0,20,N)\n",
    "ϵ = np.random.normal(loc = 0.0, scale = 5.0, size = N)\n",
    "y = 3*x + ϵ\n",
    "df = pd.DataFrame({'y':y, 'x':x})\n",
    "df['constant'] = 1\n",
    "\n",
    "sns.regplot(df.x, df.y);"
   ]
  },
  {
   "cell_type": "code",
   "execution_count": 60,
   "metadata": {},
   "outputs": [
    {
     "data": {
      "text/html": [
       "<table class=\"simpletable\">\n",
       "<caption>OLS Regression Results</caption>\n",
       "<tr>\n",
       "  <th>Dep. Variable:</th>            <td>y</td>        <th>  R-squared:         </th> <td>   0.910</td>\n",
       "</tr>\n",
       "<tr>\n",
       "  <th>Model:</th>                   <td>OLS</td>       <th>  Adj. R-squared:    </th> <td>   0.909</td>\n",
       "</tr>\n",
       "<tr>\n",
       "  <th>Method:</th>             <td>Least Squares</td>  <th>  F-statistic:       </th> <td>   994.6</td>\n",
       "</tr>\n",
       "<tr>\n",
       "  <th>Date:</th>             <td>Sun, 30 Aug 2020</td> <th>  Prob (F-statistic):</th> <td>4.09e-53</td>\n",
       "</tr>\n",
       "<tr>\n",
       "  <th>Time:</th>                 <td>09:50:17</td>     <th>  Log-Likelihood:    </th> <td> -313.62</td>\n",
       "</tr>\n",
       "<tr>\n",
       "  <th>No. Observations:</th>      <td>   100</td>      <th>  AIC:               </th> <td>   631.2</td>\n",
       "</tr>\n",
       "<tr>\n",
       "  <th>Df Residuals:</th>          <td>    98</td>      <th>  BIC:               </th> <td>   636.5</td>\n",
       "</tr>\n",
       "<tr>\n",
       "  <th>Df Model:</th>              <td>     1</td>      <th>                     </th>     <td> </td>   \n",
       "</tr>\n",
       "<tr>\n",
       "  <th>Covariance Type:</th>      <td>nonrobust</td>    <th>                     </th>     <td> </td>   \n",
       "</tr>\n",
       "</table>\n",
       "<table class=\"simpletable\">\n",
       "<tr>\n",
       "      <td></td>        <th>coef</th>     <th>std err</th>      <th>t</th>      <th>P>|t|</th>  <th>[0.025</th>    <th>0.975]</th>  \n",
       "</tr>\n",
       "<tr>\n",
       "  <th>constant</th> <td>   -0.3039</td> <td>    1.117</td> <td>   -0.272</td> <td> 0.786</td> <td>   -2.520</td> <td>    1.912</td>\n",
       "</tr>\n",
       "<tr>\n",
       "  <th>x</th>        <td>    3.0424</td> <td>    0.096</td> <td>   31.537</td> <td> 0.000</td> <td>    2.851</td> <td>    3.234</td>\n",
       "</tr>\n",
       "</table>\n",
       "<table class=\"simpletable\">\n",
       "<tr>\n",
       "  <th>Omnibus:</th>       <td> 0.727</td> <th>  Durbin-Watson:     </th> <td>   1.670</td>\n",
       "</tr>\n",
       "<tr>\n",
       "  <th>Prob(Omnibus):</th> <td> 0.695</td> <th>  Jarque-Bera (JB):  </th> <td>   0.406</td>\n",
       "</tr>\n",
       "<tr>\n",
       "  <th>Skew:</th>          <td> 0.142</td> <th>  Prob(JB):          </th> <td>   0.816</td>\n",
       "</tr>\n",
       "<tr>\n",
       "  <th>Kurtosis:</th>      <td> 3.128</td> <th>  Cond. No.          </th> <td>    23.1</td>\n",
       "</tr>\n",
       "</table><br/><br/>Warnings:<br/>[1] Standard Errors assume that the covariance matrix of the errors is correctly specified."
      ],
      "text/plain": [
       "<class 'statsmodels.iolib.summary.Summary'>\n",
       "\"\"\"\n",
       "                            OLS Regression Results                            \n",
       "==============================================================================\n",
       "Dep. Variable:                      y   R-squared:                       0.910\n",
       "Model:                            OLS   Adj. R-squared:                  0.909\n",
       "Method:                 Least Squares   F-statistic:                     994.6\n",
       "Date:                Sun, 30 Aug 2020   Prob (F-statistic):           4.09e-53\n",
       "Time:                        09:50:17   Log-Likelihood:                -313.62\n",
       "No. Observations:                 100   AIC:                             631.2\n",
       "Df Residuals:                      98   BIC:                             636.5\n",
       "Df Model:                           1                                         \n",
       "Covariance Type:            nonrobust                                         \n",
       "==============================================================================\n",
       "                 coef    std err          t      P>|t|      [0.025      0.975]\n",
       "------------------------------------------------------------------------------\n",
       "constant      -0.3039      1.117     -0.272      0.786      -2.520       1.912\n",
       "x              3.0424      0.096     31.537      0.000       2.851       3.234\n",
       "==============================================================================\n",
       "Omnibus:                        0.727   Durbin-Watson:                   1.670\n",
       "Prob(Omnibus):                  0.695   Jarque-Bera (JB):                0.406\n",
       "Skew:                           0.142   Prob(JB):                        0.816\n",
       "Kurtosis:                       3.128   Cond. No.                         23.1\n",
       "==============================================================================\n",
       "\n",
       "Warnings:\n",
       "[1] Standard Errors assume that the covariance matrix of the errors is correctly specified.\n",
       "\"\"\""
      ]
     },
     "execution_count": 60,
     "metadata": {},
     "output_type": "execute_result"
    }
   ],
   "source": [
    "# split features and target\n",
    "X = df[['constant', 'x']]\n",
    "# fit model and summarize\n",
    "sm.OLS(y,X).fit().summary()"
   ]
  },
  {
   "cell_type": "code",
   "execution_count": 61,
   "metadata": {},
   "outputs": [],
   "source": [
    "# define likelihood function\n",
    "def MLERegression(params):\n",
    " intercept, beta, sd = params[0], params[1], params[2] # inputs are guesses at our parameters\n",
    " yhat = intercept + beta*x # predictions\n",
    "# next, we flip the Bayesian question\n",
    "# compute PDF of observed values normally distributed around mean (yhat)\n",
    "# with a standard deviation of sd\n",
    " negLL = -np.sum( stats.norm.logpdf(y, loc=yhat, scale=sd) )\n",
    "# return negative LL\n",
    " return(negLL)"
   ]
  },
  {
   "cell_type": "code",
   "execution_count": 63,
   "metadata": {},
   "outputs": [
    {
     "name": "stdout",
     "output_type": "stream",
     "text": [
      "Optimization terminated successfully.\n",
      "         Current function value: 313.620450\n",
      "         Iterations: 103\n",
      "         Function evaluations: 181\n"
     ]
    }
   ],
   "source": [
    "# let’s start with some random coefficient guesses and optimize\n",
    "guess = np.array([5,5,2])\n",
    "results = minimize(MLERegression, guess, method = 'Nelder-Mead', \n",
    " options={'disp': True})"
   ]
  },
  {
   "cell_type": "code",
   "execution_count": 64,
   "metadata": {},
   "outputs": [
    {
     "data": {
      "text/plain": [
       " final_simplex: (array([[-0.30392963,  3.04243969,  5.56927058],\n",
       "       [-0.30385534,  3.04243637,  5.56926204],\n",
       "       [-0.30396534,  3.04244479,  5.56927912],\n",
       "       [-0.3038742 ,  3.04243802,  5.56930894]]), array([313.6204504, 313.6204504, 313.6204504, 313.6204504]))\n",
       "           fun: 313.6204503987554\n",
       "       message: 'Optimization terminated successfully.'\n",
       "          nfev: 181\n",
       "           nit: 103\n",
       "        status: 0\n",
       "       success: True\n",
       "             x: array([-0.30392963,  3.04243969,  5.56927058])"
      ]
     },
     "execution_count": 64,
     "metadata": {},
     "output_type": "execute_result"
    }
   ],
   "source": [
    "results # this gives us verbosity around our minimization\n",
    "# notice our final key and associated values…"
   ]
  },
  {
   "cell_type": "code",
   "execution_count": 65,
   "metadata": {},
   "outputs": [
    {
     "data": {
      "text/html": [
       "<div>\n",
       "<style scoped>\n",
       "    .dataframe tbody tr th:only-of-type {\n",
       "        vertical-align: middle;\n",
       "    }\n",
       "\n",
       "    .dataframe tbody tr th {\n",
       "        vertical-align: top;\n",
       "    }\n",
       "\n",
       "    .dataframe thead th {\n",
       "        text-align: right;\n",
       "    }\n",
       "</style>\n",
       "<table border=\"1\" class=\"dataframe\">\n",
       "  <thead>\n",
       "    <tr style=\"text-align: right;\">\n",
       "      <th></th>\n",
       "      <th>coef</th>\n",
       "    </tr>\n",
       "  </thead>\n",
       "  <tbody>\n",
       "    <tr>\n",
       "      <th>constant</th>\n",
       "      <td>-0.3039</td>\n",
       "    </tr>\n",
       "    <tr>\n",
       "      <th>x</th>\n",
       "      <td>3.0424</td>\n",
       "    </tr>\n",
       "  </tbody>\n",
       "</table>\n",
       "</div>"
      ],
      "text/plain": [
       "            coef\n",
       "constant -0.3039\n",
       "x         3.0424"
      ]
     },
     "execution_count": 65,
     "metadata": {},
     "output_type": "execute_result"
    }
   ],
   "source": [
    "# drop results into df and round to match statsmodels\n",
    "resultsdf = pd.DataFrame({'coef':results['x']})\n",
    "resultsdf.index=['constant','x','sigma']   \n",
    "np.round(resultsdf.head(2), 4)\n",
    "# do our numbers match the OLS model? yes!!!"
   ]
  },
  {
   "cell_type": "code",
   "execution_count": null,
   "metadata": {},
   "outputs": [],
   "source": []
  }
 ],
 "metadata": {
  "kernelspec": {
   "display_name": "Python 3",
   "language": "python",
   "name": "python3"
  },
  "language_info": {
   "codemirror_mode": {
    "name": "ipython",
    "version": 3
   },
   "file_extension": ".py",
   "mimetype": "text/x-python",
   "name": "python",
   "nbconvert_exporter": "python",
   "pygments_lexer": "ipython3",
   "version": "3.6.5"
  }
 },
 "nbformat": 4,
 "nbformat_minor": 2
}
