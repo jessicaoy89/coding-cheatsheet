{
 "cells": [
  {
   "cell_type": "markdown",
   "metadata": {},
   "source": [
    "**a Python package that provides a complement to scipy for statistical computations including descriptive statistics and estimation and inference for statistical models.**\n",
    "\n",
    "\n",
    "## Linear regression models:\n",
    "### * Ordinary least squares\n",
    "### * Generalized least squares\n",
    "### * Weighted least squares\n",
    "### * Least squares with autoregressive errors\n",
    "### * Quantile regression\n",
    "### * Recursive least squares\n",
    "## Mixed Linear Model with mixed effects and variance components\n",
    "## GLM: Generalized linear models with support for all of the one-parameter exponential family distributions\n",
    "## Bayesian Mixed GLM for Binomial and Poisson\n",
    "## GEE: Generalized Estimating Equations for one-way clustered or longitudinal data\n",
    "## Discrete models:\n",
    "Logit and Probit\n",
    "Multinomial logit (MNLogit)\n",
    "Poisson and Generalized Poisson regression\n",
    "Negative Binomial regression\n",
    "Zero-Inflated Count models\n",
    "## RLM: Robust linear models with support for several M-estimators.\n",
    "## Time Series Analysis: models for time series analysis\n",
    "### * Complete StateSpace modeling framework\n",
    "    - Seasonal ARIMA and ARIMAX models\n",
    "    - VARMA and VARMAX models\n",
    "    - Dynamic Factor models\n",
    "    - Unobserved Component models\n",
    "### * Markov switching models (MSAR), also known as Hidden Markov Models (HMM)\n",
    "### * Univariate time series analysis: AR, ARIMA\n",
    "### * Vector autoregressive models, VAR and structural VAR\n",
    "### * Vector error correction modle, VECM\n",
    "### * exponential smoothing, Holt-Winters\n",
    "### * Hypothesis tests for time series: unit root, cointegration and others\n",
    "### * Descriptive statistics and process models for time series analysis\n",
    "## Survival analysis:\n",
    "### * Proportional hazards regression (Cox models)\n",
    "### * Survivor function estimation (Kaplan-Meier)\n",
    "### * Cumulative incidence function estimation\n",
    "## Multivariate:\n",
    "### * Principal Component Analysis with missing data\n",
    "### * Factor Analysis with rotation\n",
    "### * MANOVA\n",
    "### * Canonical Correlation\n",
    "## Nonparametric statistics: Univariate and multivariate kernel density estimators\n",
    "## Datasets: Datasets used for examples and in testing\n",
    "## Statistics: a wide range of statistical tests\n",
    "### * diagnostics and specification tests\n",
    "### * goodness-of-fit and normality tests\n",
    "### * functions for multiple testing\n",
    "### * various additional statistical tests\n",
    "## Imputation with MICE, regression on order statistic and Gaussian imputation\n",
    "## Mediation analysis\n",
    "## Graphics includes plot functions for visual analysis of data and model results\n",
    "## I/O\n",
    "### * Tools for reading Stata .dta files, but pandas has a more recent version\n",
    "### * Table output to ascii, latex, and html\n",
    "## Miscellaneous models\n",
    "## Sandbox: statsmodels contains a sandbox folder with code in various stages of development and testing which is not considered \"production ready\". This covers among others\n",
    "### * Generalized method of moments (GMM) estimators\n",
    "### * Kernel regression\n",
    "### * Various extensions to scipy.stats.distributions\n",
    "### * Panel data models\n",
    "### * Information theoretic measures"
   ]
  },
  {
   "cell_type": "code",
   "execution_count": 1,
   "metadata": {},
   "outputs": [],
   "source": [
    "import statsmodels.api as sm\n",
    "import statsmodels.tsa.api as tsa\n",
    "import statsmodels.formula.api as smf"
   ]
  },
  {
   "cell_type": "code",
   "execution_count": null,
   "metadata": {},
   "outputs": [],
   "source": []
  },
  {
   "cell_type": "code",
   "execution_count": null,
   "metadata": {},
   "outputs": [],
   "source": []
  },
  {
   "cell_type": "code",
   "execution_count": null,
   "metadata": {},
   "outputs": [],
   "source": []
  },
  {
   "cell_type": "code",
   "execution_count": null,
   "metadata": {},
   "outputs": [],
   "source": []
  },
  {
   "cell_type": "code",
   "execution_count": null,
   "metadata": {},
   "outputs": [],
   "source": []
  },
  {
   "cell_type": "code",
   "execution_count": null,
   "metadata": {},
   "outputs": [],
   "source": []
  },
  {
   "cell_type": "code",
   "execution_count": null,
   "metadata": {},
   "outputs": [],
   "source": []
  }
 ],
 "metadata": {
  "kernelspec": {
   "display_name": "Python 3",
   "language": "python",
   "name": "python3"
  },
  "language_info": {
   "codemirror_mode": {
    "name": "ipython",
    "version": 3
   },
   "file_extension": ".py",
   "mimetype": "text/x-python",
   "name": "python",
   "nbconvert_exporter": "python",
   "pygments_lexer": "ipython3",
   "version": "3.6.5"
  }
 },
 "nbformat": 4,
 "nbformat_minor": 2
}
